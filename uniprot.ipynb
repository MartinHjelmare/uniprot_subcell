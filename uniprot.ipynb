{
 "cells": [
  {
   "cell_type": "code",
   "execution_count": 34,
   "metadata": {
    "collapsed": false
   },
   "outputs": [],
   "source": [
    "locations = []\n",
    "temp_dict = {}\n",
    "with open('/home/martin/Skrivbord/subcell.txt','r') as f:\n",
    "    for line in f:\n",
    "        if '//' == line[0:2]:\n",
    "            if temp_dict:\n",
    "                locations.append(temp_dict)\n",
    "            temp_dict = {}\n",
    "        else:\n",
    "            try:\n",
    "                value = line.split('   ')[1]\n",
    "            except IndexError:\n",
    "                pass\n",
    "        if 'ID' == line[0:2]:\n",
    "            temp_dict['ID'] = value[0:-2]\n",
    "        if 'HI' == line[0:2]:\n",
    "            temp_dict['HI'] = value[0:-2]\n",
    "        if 'HP' == line[0:2]:\n",
    "            temp_dict['HP'] = value[0:-2]\n",
    "        if 'GO' == line[0:2]:\n",
    "            temp_dict['GO'] = value.split(';')[0]"
   ]
  },
  {
   "cell_type": "code",
   "execution_count": 35,
   "metadata": {
    "collapsed": false
   },
   "outputs": [],
   "source": [
    "no_HP = []\n",
    "no_HP_and_HI = []\n",
    "for loc in locations:\n",
    "    try:\n",
    "        HP = loc['HP']\n",
    "    except KeyError:\n",
    "        no_HP.append(loc)\n",
    "for loc in no_HP:\n",
    "    try:\n",
    "        HI = loc['HI']\n",
    "    except KeyError:\n",
    "        no_HP_and_HI.append(loc)"
   ]
  },
  {
   "cell_type": "code",
   "execution_count": 29,
   "metadata": {
    "collapsed": true
   },
   "outputs": [],
   "source": [
    "import csv\n",
    "def write_csv(path, dict_list, keys):\n",
    "    \"\"\"Function to write a list of dicts as a csv file.\"\"\"\n",
    "\n",
    "    with open(path, 'wb') as f:\n",
    "        w = csv.DictWriter(f, keys)\n",
    "        w.writeheader()\n",
    "        w.writerows(dict_list)"
   ]
  },
  {
   "cell_type": "code",
   "execution_count": 36,
   "metadata": {
    "collapsed": false
   },
   "outputs": [],
   "source": [
    "write_csv('/home/martin/Skrivbord/loc_no_parent_uniprot_2.csv', no_HP_and_HI, ['ID', 'GO'])"
   ]
  },
  {
   "cell_type": "code",
   "execution_count": 37,
   "metadata": {
    "collapsed": false
   },
   "outputs": [
    {
     "data": {
      "text/plain": [
       "[{'GO': 'GO:0020022', 'ID': 'Acidocalcisome'},\n",
       " {'GO': 'GO:0009288', 'ID': 'Archaeal flagellum'},\n",
       " {'GO': 'GO:0009288', 'ID': 'Bacterial flagellum'},\n",
       " {'GO': 'GO:0005933', 'ID': 'Bud'},\n",
       " {'GO': 'GO:0031470', 'ID': 'Carboxysome'},\n",
       " {'GO': 'GO:0031975', 'ID': 'Cell envelope'},\n",
       " {'GO': 'GO:0030054', 'ID': 'Cell junction'},\n",
       " {'GO': 'GO:0042995', 'ID': 'Cell projection'},\n",
       " {'GO': 'GO:0030428', 'ID': 'Cell septum'},\n",
       " {'GO': 'GO:0009986', 'ID': 'Cell surface'},\n",
       " {'GO': 'GO:0051286', 'ID': 'Cell tip'},\n",
       " {'GO': 'GO:0046858', 'ID': 'Chlorosome'},\n",
       " {'GO': 'GO:0005694', 'ID': 'Chromosome'},\n",
       " {'GO': 'GO:0032154', 'ID': 'Cleavage furrow'},\n",
       " {'GO': 'GO:0001533', 'ID': 'Cornified envelope'},\n",
       " {'GO': 'GO:0005737', 'ID': 'Cytoplasm'},\n",
       " {'ID': 'Cytoplasmic granule'},\n",
       " {'GO': 'GO:0016023', 'ID': 'Cytoplasmic vesicle'},\n",
       " {'GO': 'GO:0005783', 'ID': 'Endoplasmic reticulum'},\n",
       " {'GO': 'GO:0005793',\n",
       "  'ID': 'Endoplasmic reticulum-Golgi intermediate compartment'},\n",
       " {'GO': 'GO:0005768', 'ID': 'Endosome'},\n",
       " {'GO': 'GO:0009289', 'ID': 'Fimbrium'},\n",
       " {'GO': 'GO:0020016', 'ID': 'Flagellar pocket'},\n",
       " {'GO': 'GO:0042763', 'ID': 'Forespore'},\n",
       " {'GO': 'GO:0005794', 'ID': 'Golgi apparatus'},\n",
       " {'GO': 'GO:0018995', 'ID': 'Host'},\n",
       " {'GO': 'GO:0043657', 'ID': 'Host cell'},\n",
       " {'ID': 'Host chloroplast envelope'},\n",
       " {'ID': 'Host peroxisome'},\n",
       " {'GO': 'GO:0042566', 'ID': 'Hydrogenosome'},\n",
       " {'GO': 'GO:0005811', 'ID': 'Lipid droplet'},\n",
       " {'GO': 'GO:0005764', 'ID': 'Lysosome'},\n",
       " {'GO': 'GO:0042470', 'ID': 'Melanosome'},\n",
       " {'GO': 'GO:0016020', 'ID': 'Membrane'},\n",
       " {'GO': 'GO:0030496', 'ID': 'Midbody'},\n",
       " {'GO': 'GO:0005739', 'ID': 'Mitochondrion'},\n",
       " {'GO': 'GO:0032047', 'ID': 'Mitosome'},\n",
       " {'GO': 'GO:0042151', 'ID': 'Nematocyst'},\n",
       " {'GO': 'GO:0033009', 'ID': 'Nucleomorph'},\n",
       " {'GO': 'GO:0005634', 'ID': 'Nucleus'},\n",
       " {'GO': 'GO:0020003', 'ID': 'Parasitophorous vacuole'},\n",
       " {'GO': 'GO:0043204', 'ID': 'Perikaryon'},\n",
       " {'GO': 'GO:0005777', 'ID': 'Peroxisome'},\n",
       " {'GO': 'GO:0001917', 'ID': 'Photoreceptor inner segment'},\n",
       " {'GO': 'GO:0009536', 'ID': 'Plastid'},\n",
       " {'GO': 'GO:0000407', 'ID': 'Preautophagosomal structure'},\n",
       " {'GO': 'GO:0005770', 'ID': 'Prevacuolar compartment'},\n",
       " {'GO': 'GO:0042763', 'ID': 'Prospore'},\n",
       " {'GO': 'GO:0005622', 'ID': 'Protoplasm'},\n",
       " {'GO': 'GO:0016529', 'ID': 'Sarcoplasmic reticulum'},\n",
       " {'GO': 'GO:0005576', 'ID': 'Secreted'},\n",
       " {'ID': 'Spore core'},\n",
       " {'GO': 'GO:0044099', 'ID': 'Spore polar tube'},\n",
       " {'GO': 'GO:0031160', 'ID': 'Spore wall'},\n",
       " {'GO': 'GO:0043659', 'ID': 'Symbiosome'},\n",
       " {'GO': 'GO:0055044', 'ID': 'Symplast'},\n",
       " {'GO': 'GO:0044216', 'ID': 'Target cell'},\n",
       " {'ID': 'Tegument'},\n",
       " {'GO': 'GO:0009579', 'ID': 'Thylakoid'},\n",
       " {'GO': 'GO:0055039', 'ID': 'Trichocyst'},\n",
       " {'GO': 'GO:0005773', 'ID': 'Vacuole'},\n",
       " {'GO': 'GO:0019012', 'ID': 'Virion'}]"
      ]
     },
     "execution_count": 37,
     "metadata": {},
     "output_type": "execute_result"
    }
   ],
   "source": [
    "no_HP_and_HI"
   ]
  },
  {
   "cell_type": "code",
   "execution_count": null,
   "metadata": {
    "collapsed": true
   },
   "outputs": [],
   "source": [
    "locations = []\n",
    "temp_dict = {}\n",
    "with open('/home/martin/Skrivbord/subcell.txt','r') as f:\n",
    "    for line in f:\n",
    "        if '//' == line[0:2]:\n",
    "            if temp_dict:\n",
    "                locations.append(temp_dict)\n",
    "            temp_dict = {}\n",
    "        else:\n",
    "            try:\n",
    "                value = line.split('   ')[1]\n",
    "            except IndexError:\n",
    "                pass\n",
    "        if 'ID' == line[0:2]:\n",
    "            temp_dict['ID'] = value[0:-2]\n",
    "        if 'HI' == line[0:2]:\n",
    "            temp_dict['HI'] = value[0:-2]\n",
    "        if 'HP' == line[0:2]:\n",
    "            temp_dict['HP'] = value[0:-2]\n",
    "        if 'GO' == line[0:2]:\n",
    "            temp_dict['GO'] = value.split(';')[0]"
   ]
  }
 ],
 "metadata": {
  "kernelspec": {
   "display_name": "Python 2",
   "language": "python",
   "name": "python2"
  },
  "language_info": {
   "codemirror_mode": {
    "name": "ipython",
    "version": 2
   },
   "file_extension": ".py",
   "mimetype": "text/x-python",
   "name": "python",
   "nbconvert_exporter": "python",
   "pygments_lexer": "ipython2",
   "version": "2.7.6"
  }
 },
 "nbformat": 4,
 "nbformat_minor": 0
}
